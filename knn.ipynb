{
 "cells": [
  {
   "cell_type": "code",
   "execution_count": null,
   "metadata": {},
   "outputs": [],
   "source": [
    "from scipy.sparse import csr_matrix\n",
    "from fuzzywuzzy import fuzzy\n",
    "import pandas as pd\n",
    "import gc\n",
    "from sklearn.neighbors import NearestNeighbors"
   ]
  },
  {
   "cell_type": "code",
   "execution_count": null,
   "metadata": {},
   "outputs": [],
   "source": [
    "movie_name = 'God Father'\n",
    "top_rec_count=5\n",
    "df_mv = pd.read_csv('./Data Sets/movies.csv',usecols=['movieId', 'title'],dtype={'movieId': 'int32', 'title': 'str'})\n",
    "df_rt = pd.read_csv('./Data Sets/ratings.csv',usecols=['userId', 'movieId', 'rating'],dtype={'userId': 'int32', 'movieId': 'int32', 'rating': 'float32'})\n",
    "model = NearestNeighbors(n_neighbors = 15,algorithm = 'brute',metric = 'cosine')"
   ]
  },
  {
   "cell_type": "code",
   "execution_count": null,
   "metadata": {},
   "outputs": [],
   "source": [
    "\n",
    "matrix = df_rt.pivot(index='movieId', columns='userId', values='rating').fillna(0)\n",
    "print(matrix)\n",
    "map = {val: ind for ind, val in enumerate(list(df_mov.set_index('movieId').loc[matrix.index].title)) }\n",
    "print(map)\n",
    "matrix = csr_matrix(matrix.values)\n",
    "print('csr matrix -----')\n",
    "print(matrix)"
   ]
  },
  {
   "cell_type": "code",
   "execution_count": null,
   "metadata": {},
   "outputs": [],
   "source": [
    "def predict(model, input):\n",
    "        model.fit(input)\n",
    "        curr_ratio = 0\n",
    "        movie_id = None\n",
    "        for key, value in map.items():\n",
    "           rat =  fuzzy.ratio(key.lower(), movie_name.lower())\n",
    "           if(rat>65 & rat >curr_ratio):\n",
    "               curr_ratio = rat\n",
    "               movie_id = value\n",
    "        print(movie_id)\n",
    "        dist, indexes = model.kneighbors(input[movie_id],n_neighbors=top_rec_count+1)\n",
    "        result = sorted(list(zip(dist.squeeze().tolist(),indexes.squeeze().tolist())),key=lambda x: x[0])[:0:-1]\n",
    "        return result"
   ]
  },
  {
   "cell_type": "code",
   "execution_count": null,
   "metadata": {},
   "outputs": [],
   "source": [
    "\n",
    "recommends = predict(model, matrix)\n",
    "map = {value: key for key, value in map.items()}\n",
    "print('Recommendation for movie: '+ movie_name)\n",
    "print(recommends)\n",
    "for (dist, movie_id) in enumerate(recommends):\n",
    "    print(\"movie = \"+ map[movie_id])"
   ]
  }
 ],
 "metadata": {
  "interpreter": {
   "hash": "31f2aee4e71d21fbe5cf8b01ff0e069b9275f58929596ceb00d14d90e3e16cd6"
  },
  "kernelspec": {
   "display_name": "Python 3.8.9 64-bit",
   "name": "python3"
  },
  "language_info": {
   "codemirror_mode": {
    "name": "ipython",
    "version": 3
   },
   "file_extension": ".py",
   "mimetype": "text/x-python",
   "name": "python",
   "nbconvert_exporter": "python",
   "pygments_lexer": "ipython3",
   "version": "3.8.9"
  },
  "orig_nbformat": 4
 },
 "nbformat": 4,
 "nbformat_minor": 2
}
